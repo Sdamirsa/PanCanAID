{
 "cells": [
  {
   "cell_type": "markdown",
   "metadata": {},
   "source": [
    "### Anonymization of dicom\n",
    "\n",
    "<details>\n",
    "<summary>STEP 1 BIG PICTURE</summary>\n",
    "We collected data from centers in folders, named as patient ID (e.g. admission). We want to clean these directories, so \n",
    "I: Each CT study is placed in one folder\n",
    "II: Store cases in an excel file, with its dicom files in the table, and all other variables (outcome, clinical, pathology data) stored here. We call this master key, which also contains patient id (un-anonymized) along with the key for anonymization.\n",
    "III: Transfer dicom-pnly files to new destination and anonymize these images.\n",
    "</details>\n",
    "<details>\n",
    "<summary>PREVIOUS STEP</summary>\n",
    "WE previously transfered all dicom files of enrolled cases to a new destination. Now we want to anynymize it.\n",
    "</details>\n",
    "<details>\n",
    "<summary>THIS STEP</summary>\n",
    "This code remove dicom meta data that may represent patient identity, while preserving many useful tags within dicom metadata.\n",
    "</details>\n",
    "<details>\n",
    "<summary>NEXT STEP</summary>\n",
    "Upload to Xnat for labeling and anonymization.\n",
    "</details>"
   ]
  }
 ],
 "metadata": {
  "language_info": {
   "name": "python"
  }
 },
 "nbformat": 4,
 "nbformat_minor": 2
}
