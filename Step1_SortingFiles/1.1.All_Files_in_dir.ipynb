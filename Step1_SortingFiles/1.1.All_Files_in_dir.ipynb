{
 "cells": [
  {
   "cell_type": "markdown",
   "metadata": {},
   "source": [
    "This code will find all files in a direcotry, with the number of dicom files, and return a long list, containing a row for each file, and a short list, reporting the number of file types with same extension in a folder.\n",
    "\n",
    "[20231001]v1: The first final code\n",
    "[20231201]v2: I added find dicom since some dicom files has no extension (while they usually should have .dcm extension) using pydicom library. This step makes the function three times slower :) "
   ]
  },
  {
   "cell_type": "code",
   "execution_count": null,
   "metadata": {},
   "outputs": [],
   "source": [
    "#changables: the variables, direcotry, file names for saving/loading should be definied here\n",
    "\n",
    "Hospital_name= \"Guilan\"\n",
    "#directory=f\"D:\\Data\\Big Pancreas (CT, EUS)\\Raw Data Hospital\\{Hospital_name}\" #directory on old pc\n",
    "directory=f\"E:\\Data\\Big Pancreas (CT, EUS)\\Raw Data Hospital\\{Hospital_name}\" #directory on ssd hard"
   ]
  },
  {
   "cell_type": "code",
   "execution_count": null,
   "metadata": {},
   "outputs": [],
   "source": [
    "from myfunc_directory import get_filepaths_dataframe #get_filepaths_dataframe(directory, Ignore=None,give_second_dupreomved_df=False,, multiple_or_no_dot_handler=True, find_dicom=False) \n",
    "\n",
    "ignore=[] # if you want to ignore some specific file types, insert them in this list.\n",
    "data, count_perDirectandType=get_filepaths_dataframe(directory, Ignore=ignore,give_second_dupreomved_df=True, multiple_or_no_dot_handler=True,find_dicom=True)\n",
    "\n",
    "#data.to_csv(f\"D:\\Data\\Big Pancreas (CT, EUS)\\Raw Data Hospital\\{Hospital_name}_data.csv\")\n",
    "data.to_csv(f\"E:\\Data\\Big Pancreas (CT, EUS)\\Raw Data Hospital\\{Hospital_name}_data.csv\")\n",
    "#count_perDirectandType.to_excel(f\"D:\\Data\\Big Pancreas (CT, EUS)\\Raw Data Hospital\\{Hospital_name}_data_short.xlsx\")\n",
    "count_perDirectandType.to_excel(f\"E:\\Data\\Big Pancreas (CT, EUS)\\Raw Data Hospital\\{Hospital_name}_data_short.xlsx\")\n",
    "\n"
   ]
  },
  {
   "cell_type": "code",
   "execution_count": null,
   "metadata": {},
   "outputs": [],
   "source": []
  }
 ],
 "metadata": {
  "kernelspec": {
   "display_name": "base",
   "language": "python",
   "name": "python3"
  },
  "language_info": {
   "codemirror_mode": {
    "name": "ipython",
    "version": 3
   },
   "file_extension": ".py",
   "mimetype": "text/x-python",
   "name": "python",
   "nbconvert_exporter": "python",
   "pygments_lexer": "ipython3",
   "version": "3.11.5"
  }
 },
 "nbformat": 4,
 "nbformat_minor": 2
}
