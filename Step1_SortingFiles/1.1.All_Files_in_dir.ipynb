{
 "cells": [
  {
   "cell_type": "markdown",
   "metadata": {},
   "source": [
    "This code Finding all files in a direcotry, with the number of dicom files.\n",
    "\n",
    "v2 [20231201]: I added find dicom since some dicom files has no extension (while they usually should have .dcm extension) using pydicom library. This step makes the function three times slower :) "
   ]
  },
  {
   "cell_type": "code",
   "execution_count": 1,
   "metadata": {},
   "outputs": [],
   "source": [
    "#changables: the variables, direcotry, file names for saving/loading should be definied here\n",
    "\n",
    "Hospital_name= \"Guilan\"\n",
    "directory=f\"D:\\Data\\Big Pancreas (CT, EUS)\\Raw Data Hospital\\{Hospital_name}\"\n"
   ]
  },
  {
   "cell_type": "code",
   "execution_count": 2,
   "metadata": {},
   "outputs": [
    {
     "name": "stderr",
     "output_type": "stream",
     "text": [
      "c:\\Users\\Lenovo\\anaconda3\\lib\\site-packages\\pandas\\core\\computation\\expressions.py:20: UserWarning: Pandas requires version '2.7.3' or newer of 'numexpr' (version '2.7.1' currently installed).\n",
      "  from pandas.core.computation.check import NUMEXPR_INSTALLED\n"
     ]
    },
    {
     "name": "stdout",
     "output_type": "stream",
     "text": [
      "Execution time: 73.55318903923035 seconds\n",
      "Execution time: 79.14551973342896 seconds\n"
     ]
    },
    {
     "name": "stderr",
     "output_type": "stream",
     "text": [
      "<ipython-input-2-399faae87dae>:7: UserWarning: Pandas requires version '1.4.3' or newer of 'xlsxwriter' (version '1.3.7' currently installed).\n",
      "  count_perDirectandType.to_excel(f\"D:\\Data\\Big Pancreas (CT, EUS)\\Raw Data Hospital\\{Hospital_name}_data_short.xlsx\")\n"
     ]
    }
   ],
   "source": [
    "from myfunc_directory import get_filepaths_dataframe #get_filepaths_dataframe(directory, Ignore=None,give_second_dupreomved_df=False,, multiple_or_no_dot_handler=True, find_dicom=False) \n",
    "\n",
    "ignore=[] # if you want to ignore some specific file types, insert them in this list.\n",
    "data, count_perDirectandType=get_filepaths_dataframe(directory, Ignore=ignore,give_second_dupreomved_df=True, multiple_or_no_dot_handler=True,find_dicom=True)\n",
    "\n",
    "data.to_csv(f\"D:\\Data\\Big Pancreas (CT, EUS)\\Raw Data Hospital\\{Hospital_name}_data.csv\")\n",
    "count_perDirectandType.to_excel(f\"D:\\Data\\Big Pancreas (CT, EUS)\\Raw Data Hospital\\{Hospital_name}_data_short.xlsx\")\n",
    "\n"
   ]
  },
  {
   "cell_type": "code",
   "execution_count": 5,
   "metadata": {},
   "outputs": [
    {
     "name": "stderr",
     "output_type": "stream",
     "text": [
      "<ipython-input-5-02ec3682e9ff>:1: UserWarning: Pandas requires version '1.4.3' or newer of 'xlsxwriter' (version '1.3.7' currently installed).\n",
      "  count_perDirectandType[count_perDirectandType['If_dicom']==True].to_excel(f\"D:\\Data\\Big Pancreas (CT, EUS)\\Raw Data Hospital\\{Hospital_name}_data_short_just_dcm.xlsx\")\n"
     ]
    }
   ],
   "source": [
    "count_perDirectandType[count_perDirectandType['If_dicom']==True].to_excel(f\"D:\\Data\\Big Pancreas (CT, EUS)\\Raw Data Hospital\\{Hospital_name}_data_short_just_dcm.xlsx\")"
   ]
  }
 ],
 "metadata": {
  "kernelspec": {
   "display_name": "base",
   "language": "python",
   "name": "python3"
  },
  "language_info": {
   "codemirror_mode": {
    "name": "ipython",
    "version": 3
   },
   "file_extension": ".py",
   "mimetype": "text/x-python",
   "name": "python",
   "nbconvert_exporter": "python",
   "pygments_lexer": "ipython3",
   "version": "3.8.5"
  }
 },
 "nbformat": 4,
 "nbformat_minor": 2
}
